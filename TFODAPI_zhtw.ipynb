{
 "metadata": {
  "language_info": {
   "codemirror_mode": {
    "name": "ipython",
    "version": 3
   },
   "file_extension": ".py",
   "mimetype": "text/x-python",
   "name": "python",
   "nbconvert_exporter": "python",
   "pygments_lexer": "ipython3",
   "version": "3.7.10"
  },
  "orig_nbformat": 2,
  "kernelspec": {
   "name": "python3710jvsc74a57bd0d691563e99e9a3979a983c1ec437e7ca3a8c8727a90177d610743cf3458968f3",
   "display_name": "Python 3.7.10 64-bit ('eyesscancontroller-ear1zoun': pipenv)"
  }
 },
 "nbformat": 4,
 "nbformat_minor": 2,
 "cells": [
  {
   "source": [
    "# Tensorflow 物件辨識 API 自動化流程\n",
    "\n",
    "你只要一步一步來，就可以做出一個屬於你的模型！\n",
    "\n",
    "* 使用 Jupyter 筆記本\n",
    "* 參考資料：https://txz44wy3qbnec67omxio6h3gfm-ac4c6men2g7xr2a-readthedocs.translate.goog/en/latest/training.html#preparing-the-workspace\n",
    "\n",
    "> ### 注意\n",
    "> 請使用 VSCode + Jupyter\n",
    "\n",
    "## 流程\n",
    "\n",
    "流程共分為3個步驟：\n",
    "\n",
    "1. 初始化\n",
    "    1. 安裝、架設環境\n",
    "    2. 設定環境\n",
    "    3. 建立工作區\n",
    "2. 準備資料集（dataset）\n",
    "    1. 收集資料集（Dataset）\n",
    "    2. Label 你的圖片\n",
    "    3. 分類圖片\n",
    "3. 訓練前準備（traing）\n",
    "4. 執行訓練\n",
    "5. 驗證和評估模型（model）\n",
    "6. 導出模型（model）\n",
    "\n",
    "## 1.初始化\n",
    "\n",
    "### 1-1. 安裝、架設環境\n",
    "\n",
    "如果你還沒有初始化`pipenv`，請先初始化一個環境，並且安裝上`ipykernal`\n"
   ],
   "cell_type": "markdown",
   "metadata": {}
  },
  {
   "cell_type": "code",
   "execution_count": null,
   "metadata": {},
   "outputs": [],
   "source": [
    "! pipenv --three 3.7        # Python 3.7 是必要的喔！\n",
    "! pipenv install ipykernal  # 這個是讓Jupyter可以在VSCode裡運作的package"
   ]
  },
  {
   "source": [
    "啊對了，如果你是mac你用不了GPU加速喔！\n",
    "因為我也是mac所以用不了，就不解釋了。 （www\n",
    "\n"
   ],
   "cell_type": "markdown",
   "metadata": {}
  },
  {
   "source": [
    "### 1-2. 設定環境\n",
    "\n",
    "1. 請使用 VSCode `Cmd+Shift+P`\n",
    "2. 選擇：`Python:Select Interpreter`\n",
    "3. 選擇剛剛創立的 `pipenv`\n",
    "\n",
    "### 1-3. 建立工作區"
   ],
   "cell_type": "markdown",
   "metadata": {}
  },
  {
   "source": [
    "然後 git clone tensorflow 的 model zoo 下來來使用 Object Detection API："
   ],
   "cell_type": "markdown",
   "metadata": {}
  },
  {
   "cell_type": "code",
   "execution_count": null,
   "metadata": {},
   "outputs": [],
   "source": [
    "! git clone git@github.com:tensorflow/models.git"
   ]
  },
  {
   "source": [
    "接下來我們要建立工作環境，也就是一堆有規範的資料夾：\n",
    "\n",
    "```\n",
    "TensorFlow/\n",
    "├─ addons/ (Optional)\n",
    "│  └─ labelImg/\n",
    "├─ models/\n",
    "│  ├─ community/\n",
    "│  ├─ official/\n",
    "│  ├─ orbit/\n",
    "│  ├─ research/\n",
    "│  └─ ...\n",
    "└─ workspace/\n",
    "   └─ training_demo/  <---(專案資料夾)\n",
    "```\n",
    "\n",
    "專案資料夾結構:\n",
    "```\n",
    "training_demo/\n",
    "├─ annotations/         <---(TFrecord和csv的儲存地)\n",
    "├─ exported-models/     <---(模型的導出版本)\n",
    "├─ images/              <---(dataset儲存地)\n",
    "│  ├─ test/                 <--(測試組 資料集)\n",
    "│  └─ train/                <--(訓練組 資料集)\n",
    "├─ models/              <--(模型)\n",
    "├─ pre-trained-models/  <--(預訓練模型)\n",
    "└─ README.md\n",
    "```\n",
    "\n",
    "讓我們建立 workspace 資料夾吧！(如果有創立好了就不用建了)"
   ],
   "cell_type": "markdown",
   "metadata": {}
  },
  {
   "cell_type": "code",
   "execution_count": null,
   "metadata": {},
   "outputs": [],
   "source": [
    "! mkdir TensorFlow\n",
    "! mkdir TensorFlow/data\n",
    "! mkdir TensorFlow/data/images\n",
    "! mkdir TensorFlow/scripts\n",
    "! mkdir TensorFlow/workspace\n",
    "! mkdir TensorFlow/workspace/training_demo/\n",
    "! mkdir TensorFlow/workspace/training_demo/annotations\n",
    "! mkdir TensorFlow/workspace/training_demo/exported-models\n",
    "! mkdir TensorFlow/workspace/training_demo/images\n",
    "! mkdir TensorFlow/workspace/training_demo/images/test\n",
    "! mkdir TensorFlow/workspace/training_demo/images/train\n",
    "! mkdir TensorFlow/workspace/training_demo/models\n",
    "! mkdir TensorFlow/workspace/training_demo/pre-trained-models"
   ]
  },
  {
   "source": [
    "### 1-4. 最後最後\n",
    "\n",
    "最後最後，把該 import 都 import："
   ],
   "cell_type": "markdown",
   "metadata": {}
  },
  {
   "cell_type": "code",
   "execution_count": null,
   "metadata": {},
   "outputs": [],
   "source": [
    "import os\n",
    "from os import listdir\n",
    "from os.path import isfile, join\n",
    "import random\n",
    "\n",
    "print(\"=== finished\")"
   ]
  },
  {
   "source": [
    "## 2.準備數據集\n",
    "\n",
    "首先把你的資料全部收集起來，然後放到資料夾`TensorFlow/data`中。\n",
    "\n",
    "### 2-1.收集資料集（Dataset）\n",
    "\n",
    "蒐集到你要的資料，全部蒐集起來。在這裏我有打包一個zip裡面全部都是img，然後放到data資料夾內。"
   ],
   "cell_type": "markdown",
   "metadata": {}
  },
  {
   "cell_type": "code",
   "execution_count": null,
   "metadata": {},
   "outputs": [],
   "source": [
    "! python3 ./scripts/homebrew/generate_images.py"
   ]
  },
  {
   "source": [
    "好了，圖片都準備就緒了，接下來label我們的圖片！\n",
    "\n",
    "### 2-2.Label 你的圖片\n",
    "\n",
    "執行的步驟如下：\n",
    "\n",
    "1. 安裝 LabelImg\n",
    "2. 啟動 LabelImg\n",
    "3. Label Images\n",
    "\n",
    "在這裡我們使用 LabelImg\n",
    "\n",
    "安裝 LabelImg 工具，依照官網範例：https://pypi.org/project/labelImg/\n",
    "\n"
   ],
   "cell_type": "markdown",
   "metadata": {}
  },
  {
   "cell_type": "code",
   "execution_count": null,
   "metadata": {},
   "outputs": [],
   "source": [
    "! pip3 install labelImg # 安裝 labelImg\n",
    "! labelImg # 啟動 labelImg\n",
    "# ! labelImg [IMAGE_PATH] [PRE-DEFINED CLASS FILE]"
   ]
  },
  {
   "source": [
    "### 2-3.分類圖片\n",
    "\n",
    "用預先寫好的分類器分類所有圖的 data set 和 label set, 程式會依照simple_rate比例分配test data到test和train資料夾中。\n",
    "\n"
   ],
   "cell_type": "markdown",
   "metadata": {}
  },
  {
   "cell_type": "code",
   "execution_count": null,
   "metadata": {},
   "outputs": [],
   "source": [
    "# 使用ljcucc自製的：\n",
    "! python3 ./scripts/homebrew/split_dataset.py 0.1 # 0.1 is the simple_rate\n",
    "\n",
    "# 使用官方的 (不推薦))：\n",
    "# ! python3 ./scripts/tutorial/partition_dataset.py --xml --imageDir [FULLPATH_TO_FOLDER] --ratio 0.1"
   ]
  },
  {
   "source": [
    "### 2-4. 新建Label map\n",
    "\n",
    "TensorFlow需要一個Label map映射，即將每個使用的Label映射到一個「**整數值**」。train和valid過程都使用此Label map。\n",
    "\n",
    "下面，我們abel_map.pbtxt假設我們的dataset包含2個標籤，dogs並顯示了一個示例標籤圖（例如）cats：\n",
    "\n",
    "```\n",
    "item {\n",
    "    id: 1\n",
    "    name: 'cat'\n",
    "}\n",
    "\n",
    "item {\n",
    "    id: 2\n",
    "    name: 'dog'\n",
    "}\n",
    "```\n",
    "\n",
    "當然我都幫你寫好了，從 `./assets` 中拉出 `label_map.pbtxt` 改一改即可"
   ],
   "cell_type": "markdown",
   "metadata": {}
  }
 ]
}